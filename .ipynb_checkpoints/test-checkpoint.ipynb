{
 "cells": [
  {
   "cell_type": "code",
   "execution_count": 1,
   "metadata": {},
   "outputs": [],
   "source": [
    "%load_ext autoreload\n",
    "%autoreload 2"
   ]
  },
  {
   "cell_type": "code",
   "execution_count": 7,
   "metadata": {},
   "outputs": [],
   "source": [
    "import torch\n",
    "import torch.nn as nn"
   ]
  },
  {
   "cell_type": "code",
   "execution_count": 8,
   "metadata": {},
   "outputs": [],
   "source": [
    "net = nn.Sequential(\n",
    "    nn.Conv1d(1,1,3),\n",
    "    nn.ReLU())"
   ]
  },
  {
   "cell_type": "code",
   "execution_count": 9,
   "metadata": {},
   "outputs": [
    {
     "data": {
      "text/plain": [
       "<bound method Module.modules of Sequential(\n",
       "  (0): Conv1d(1, 1, kernel_size=(3,), stride=(1,))\n",
       "  (1): ReLU()\n",
       ")>"
      ]
     },
     "execution_count": 9,
     "metadata": {},
     "output_type": "execute_result"
    }
   ],
   "source": [
    "net.modules"
   ]
  },
  {
   "cell_type": "code",
   "execution_count": 10,
   "metadata": {},
   "outputs": [],
   "source": [
    "import dqn_net"
   ]
  },
  {
   "cell_type": "code",
   "execution_count": 11,
   "metadata": {},
   "outputs": [],
   "source": [
    "conv_para = {\"conv_dim\": [1], \"args\": [[3,2,1]], \"kw_args\": [None], \"activation\": ['ReLU']}\n",
    "fc_param = {\"units\": [48, 32], \"bias\": [True, True], \"activation\": ['ReLU']}\n",
    "d = dqn_net.DqnNet(10, 10, 10, conv_network_param=conv_para, fc_network_param=fc_param)"
   ]
  },
  {
   "cell_type": "code",
   "execution_count": 12,
   "metadata": {},
   "outputs": [],
   "source": [
    "logits = d.forward(torch.rand(10,3,10))"
   ]
  },
  {
   "cell_type": "code",
   "execution_count": 13,
   "metadata": {},
   "outputs": [
    {
     "data": {
      "text/plain": [
       "DqnNet(\n",
       "  (_conv_net): Sequential(\n",
       "    (convolution_0): Conv1d(3, 2, kernel_size=(1,), stride=(1,))\n",
       "    (conv_ReLU_0): ReLU()\n",
       "  )\n",
       "  (_fc_net): Sequential(\n",
       "    (fully_connected_0): Linear(in_features=20, out_features=48, bias=True)\n",
       "    (fc_activation_0): ReLU()\n",
       "    (fully_connected_1): Linear(in_features=48, out_features=32, bias=True)\n",
       "    (fc_activation_1): ReLU()\n",
       "    (final): Linear(in_features=32, out_features=10, bias=True)\n",
       "  )\n",
       "  (_rnn_net): Sequential()\n",
       ")"
      ]
     },
     "execution_count": 13,
     "metadata": {},
     "output_type": "execute_result"
    }
   ],
   "source": [
    "d"
   ]
  },
  {
   "cell_type": "code",
   "execution_count": 14,
   "metadata": {},
   "outputs": [
    {
     "data": {
      "text/plain": [
       "0.001"
      ]
     },
     "execution_count": 14,
     "metadata": {},
     "output_type": "execute_result"
    }
   ],
   "source": [
    "1e-3"
   ]
  },
  {
   "cell_type": "code",
   "execution_count": 16,
   "metadata": {},
   "outputs": [
    {
     "data": {
      "text/plain": [
       "tensor(3)"
      ]
     },
     "execution_count": 16,
     "metadata": {},
     "output_type": "execute_result"
    }
   ],
   "source": [
    "torch.randint(10, (1,))[0]"
   ]
  },
  {
   "cell_type": "code",
   "execution_count": 17,
   "metadata": {},
   "outputs": [
    {
     "data": {
      "text/plain": [
       "torch.return_types.max(\n",
       "values=tensor([0.1697, 0.1714, 0.1656, 0.1676, 0.1721, 0.1652, 0.1835, 0.1832, 0.1770,\n",
       "        0.1601], grad_fn=<MaxBackward0>),\n",
       "indices=tensor([2, 2, 2, 2, 2, 2, 2, 2, 2, 2]))"
      ]
     },
     "execution_count": 17,
     "metadata": {},
     "output_type": "execute_result"
    }
   ],
   "source": [
    "torch.max(logits, axis=1)"
   ]
  },
  {
   "cell_type": "code",
   "execution_count": 18,
   "metadata": {},
   "outputs": [
    {
     "data": {
      "text/plain": [
       "tensor([[-0.0199, -0.2271,  0.1697, -0.1509, -0.1648,  0.0484, -0.0502, -0.0528,\n",
       "          0.1257,  0.0748],\n",
       "        [-0.0303, -0.2437,  0.1714, -0.1524, -0.1693,  0.0555, -0.0608, -0.0600,\n",
       "          0.1176,  0.0716],\n",
       "        [-0.0231, -0.2344,  0.1656, -0.1640, -0.1408,  0.0427, -0.0640, -0.0671,\n",
       "          0.1268,  0.0707],\n",
       "        [-0.0284, -0.2315,  0.1676, -0.1538, -0.1635,  0.0475, -0.0538, -0.0568,\n",
       "          0.1271,  0.0709],\n",
       "        [-0.0287, -0.2423,  0.1721, -0.1647, -0.1500,  0.0532, -0.0732, -0.0623,\n",
       "          0.1151,  0.0697],\n",
       "        [-0.0297, -0.2477,  0.1652, -0.1669, -0.1500,  0.0389, -0.0636, -0.0733,\n",
       "          0.1259,  0.0668],\n",
       "        [-0.0237, -0.2432,  0.1835, -0.1551, -0.1710,  0.0548, -0.0611, -0.0549,\n",
       "          0.1095,  0.0646],\n",
       "        [-0.0170, -0.2429,  0.1832, -0.1548, -0.1650,  0.0490, -0.0541, -0.0554,\n",
       "          0.1161,  0.0682],\n",
       "        [-0.0309, -0.2545,  0.1770, -0.1589, -0.1678,  0.0470, -0.0593, -0.0624,\n",
       "          0.1153,  0.0631],\n",
       "        [-0.0331, -0.2473,  0.1601, -0.1653, -0.1508,  0.0498, -0.0713, -0.0687,\n",
       "          0.1202,  0.0726]], grad_fn=<AddmmBackward>)"
      ]
     },
     "execution_count": 18,
     "metadata": {},
     "output_type": "execute_result"
    }
   ],
   "source": [
    "logits"
   ]
  },
  {
   "cell_type": "code",
   "execution_count": null,
   "metadata": {},
   "outputs": [],
   "source": []
  }
 ],
 "metadata": {
  "kernelspec": {
   "display_name": "Python 3",
   "language": "python",
   "name": "python3"
  },
  "language_info": {
   "codemirror_mode": {
    "name": "ipython",
    "version": 3
   },
   "file_extension": ".py",
   "mimetype": "text/x-python",
   "name": "python",
   "nbconvert_exporter": "python",
   "pygments_lexer": "ipython3",
   "version": "3.6.9"
  }
 },
 "nbformat": 4,
 "nbformat_minor": 4
}
