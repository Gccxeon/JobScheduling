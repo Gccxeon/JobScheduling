{
 "cells": [
  {
   "cell_type": "code",
   "execution_count": 10,
   "metadata": {},
   "outputs": [],
   "source": [
    "%load_ext autoreload\n",
    "%autoreload 2\n",
    "import sys\n",
    "sys.path.append('..')\n",
    "from env_test import env\n",
    "from env_test import policies as baseline_policy\n",
    "from q_learning import trainer as QTrainer\n",
    "from q_learning import QLearner\n"
   ]
  },
  {
   "cell_type": "code",
   "execution_count": 11,
   "metadata": {},
   "outputs": [
    {
     "name": "stdout",
     "output_type": "stream",
     "text": [
      "Reward by bseline policies:\n",
      "random:      -2369.900887\n",
      "earlist:     -2361.692989\n",
      "round_robin: -2363.384568\n",
      "sensible:    -2383.569393\n",
      "bestfit:     -2313.309158\n"
     ]
    }
   ],
   "source": [
    "def policy_reward(env, policy):\n",
    "    env.reset()\n",
    "    while not env.is_terminal():\n",
    "        env.step(policy())\n",
    "    return env.cum_reward()\n",
    "print(\"Reward by bseline policies:\\n\"\n",
    "      \"random:      {:3f}\\n\"\n",
    "      \"earlist:     {:3f}\\n\"\n",
    "      \"round_robin: {:3f}\\n\"\n",
    "      \"sensible:    {:3f}\\n\"\n",
    "      \"bestfit:     {:3f}\".format(policy_reward(env, baseline_policy.random_policy),\n",
    "                           policy_reward(env, baseline_policy.earlist_policy),\n",
    "                           policy_reward(env, baseline_policy.round_robin_policy),\n",
    "                           policy_reward(env, baseline_policy.sensible_policy),\n",
    "                           policy_reward(env, baseline_policy.bestfit_policy)))"
   ]
  },
  {
   "cell_type": "code",
   "execution_count": 12,
   "metadata": {},
   "outputs": [],
   "source": [
    "q_learner = QLearner(env, 0.05, 0.99)\n",
    "q_trainer = QTrainer(q_learner, 50)"
   ]
  },
  {
   "cell_type": "code",
   "execution_count": 17,
   "metadata": {},
   "outputs": [
    {
     "name": "stdout",
     "output_type": "stream",
     "text": [
      "Episode 10, Average_updates: 0.235993, iterations:   499,reward: -2360.014520\n",
      "Episode 20, Average_updates: 0.236804, iterations:   499,reward: -2365.156554\n",
      "Episode 30, Average_updates: 0.236746, iterations:   499,reward: -2366.588588\n",
      "Episode 40, Average_updates: 0.236786, iterations:   499,reward: -2365.800043\n",
      "Episode 50, Average_updates: 0.238395, iterations:   499,reward: -2379.349733\n",
      "Episode 60, Average_updates: 0.235776, iterations:   499,reward: -2356.539603\n",
      "Episode 70, Average_updates: 0.238263, iterations:   499,reward: -2381.428027\n",
      "Episode 80, Average_updates: 0.238412, iterations:   499,reward: -2381.654858\n",
      "Episode 90, Average_updates: 0.237341, iterations:   499,reward: -2368.117477\n",
      "Episode 100, Average_updates: 0.238962, iterations:   499,reward: -2387.944983\n"
     ]
    }
   ],
   "source": [
    "q_trainer.train(episodes=100, report_interval=10)"
   ]
  },
  {
   "cell_type": "code",
   "execution_count": null,
   "metadata": {},
   "outputs": [],
   "source": []
  }
 ],
 "metadata": {
  "kernelspec": {
   "display_name": "Python 3",
   "language": "python",
   "name": "python3"
  },
  "language_info": {
   "codemirror_mode": {
    "name": "ipython",
    "version": 3
   },
   "file_extension": ".py",
   "mimetype": "text/x-python",
   "name": "python",
   "nbconvert_exporter": "python",
   "pygments_lexer": "ipython3",
   "version": "3.8.2"
  }
 },
 "nbformat": 4,
 "nbformat_minor": 4
}
