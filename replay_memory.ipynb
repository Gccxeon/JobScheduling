{
 "cells": [
  {
   "cell_type": "code",
   "execution_count": 1,
   "metadata": {},
   "outputs": [],
   "source": [
    "import torch\n",
    "import torchvision\n",
    "import torch.nn as nn\n",
    "import torch.nn.functional as F\n",
    "import torch.optim as optim\n",
    "\n",
    "import gym\n",
    "import math\n",
    "import random\n",
    "import numpy as np\n",
    "from itertools import count\n",
    "from collections import namedtuple\n",
    "Transition = namedtuple('transition',\n",
    "                        ('state', 'action', 'next_state', 'reward'))\n",
    "\n",
    "class ReplayMemory(object):\n",
    "  # A class for storing replay memory collected from the exploration\n",
    "  # of agent. The samples are store in a left to right fashion\n",
    "  def __init__(self, capacity):\n",
    "    self._capacity = capacity\n",
    "    self._memory = []\n",
    "    self._position = 0\n",
    "    \n",
    "  def size(self):\n",
    "    return len(self._memory)\n",
    "  \n",
    "  def push(self, transition_args):\n",
    "    # only keep pushing if the capacity can hold, otherwise do nothing\n",
    "    if self.size() <= self._capacity:\n",
    "      self._memory.append(transition_args)\n",
    "\n",
    "  def pop(self):\n",
    "    if self.size() < 1:\n",
    "      raise ValueError(\"There is no sample left in the pool\")  \n",
    "    else:\n",
    "      return self._memory.pop(1)\n",
    "  def sample(self, action_dim=1, method='random'):\n",
    "    # by default, only one action will be sampled in a single batch\n",
    "    return random.sample(self._memory, action_dim)"
   ]
  },
  {
   "cell_type": "code",
   "execution_count": null,
   "metadata": {},
   "outputs": [],
   "source": []
  }
 ],
 "metadata": {
  "kernelspec": {
   "display_name": "Python 3",
   "language": "python",
   "name": "python3"
  },
  "language_info": {
   "codemirror_mode": {
    "name": "ipython",
    "version": 3
   },
   "file_extension": ".py",
   "mimetype": "text/x-python",
   "name": "python",
   "nbconvert_exporter": "python",
   "pygments_lexer": "ipython3",
   "version": "3.7.4"
  }
 },
 "nbformat": 4,
 "nbformat_minor": 4
}
