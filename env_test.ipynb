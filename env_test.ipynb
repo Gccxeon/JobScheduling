{
 "cells": [
  {
   "cell_type": "code",
   "execution_count": 6,
   "metadata": {},
   "outputs": [
    {
     "name": "stdout",
     "output_type": "stream",
     "text": [
      "The autoreload extension is already loaded. To reload it, use:\n",
      "  %reload_ext autoreload\n"
     ]
    }
   ],
   "source": [
    "%load_ext autoreload\n",
    "%autoreload 2"
   ]
  },
  {
   "cell_type": "code",
   "execution_count": 7,
   "metadata": {},
   "outputs": [],
   "source": [
    "import torch\n",
    "import torch.nn as nn"
   ]
  },
  {
   "cell_type": "code",
   "execution_count": 8,
   "metadata": {},
   "outputs": [],
   "source": [
    "import dqn_net"
   ]
  },
  {
   "cell_type": "code",
   "execution_count": 10,
   "metadata": {},
   "outputs": [],
   "source": [
    "conv_para = {\"conv_dim\": [1], \"args\": [[1,10,3]], \"kw_args\": [None], \"activation\": ['ReLU']}\n",
    "fc_param = {\"units\": [48, 32], \"bias\": [True, True], \"activation\": ['ReLU']}\n",
    "d = dqn_net.DqnNet(10, 10, conv_network_param=conv_para, fc_network_param=fc_param)"
   ]
  },
  {
   "cell_type": "code",
   "execution_count": 11,
   "metadata": {},
   "outputs": [],
   "source": [
    "logits = d.forward(torch.rand(3,3,10))"
   ]
  },
  {
   "cell_type": "code",
   "execution_count": 12,
   "metadata": {},
   "outputs": [
    {
     "data": {
      "text/plain": [
       "DqnNet(\n",
       "  (_conv_net): Sequential(\n",
       "    (convolution_0): Conv1d(1, 10, kernel_size=(3,), stride=(1,))\n",
       "    (conv_ReLU_0): ReLU()\n",
       "  )\n",
       "  (_fc_net): Sequential(\n",
       "    (fully_connected_0): Linear(in_features=80, out_features=48, bias=True)\n",
       "    (fc_activation_0): ReLU()\n",
       "    (fully_connected_1): Linear(in_features=48, out_features=32, bias=True)\n",
       "    (fc_activation_1): ReLU()\n",
       "    (final): Linear(in_features=32, out_features=10, bias=True)\n",
       "  )\n",
       "  (_rnn_net): Sequential()\n",
       ")"
      ]
     },
     "execution_count": 12,
     "metadata": {},
     "output_type": "execute_result"
    }
   ],
   "source": [
    "d"
   ]
  },
  {
   "cell_type": "code",
   "execution_count": 13,
   "metadata": {},
   "outputs": [
    {
     "data": {
      "text/plain": [
       "torch.return_types.max(\n",
       "values=tensor([0.1343, 0.1258, 0.1272, 0.1272, 0.1209, 0.1236, 0.1360, 0.1245, 0.1267],\n",
       "       grad_fn=<MaxBackward0>),\n",
       "indices=tensor([0, 0, 0, 0, 0, 0, 0, 0, 0]))"
      ]
     },
     "execution_count": 13,
     "metadata": {},
     "output_type": "execute_result"
    }
   ],
   "source": [
    "torch.max(logits, axis=1)"
   ]
  },
  {
   "cell_type": "code",
   "execution_count": 14,
   "metadata": {},
   "outputs": [
    {
     "data": {
      "text/plain": [
       "tensor([[ 0.1343, -0.0446, -0.1128,  0.0804,  0.0774,  0.0505, -0.1458,  0.0807,\n",
       "         -0.0730,  0.0571],\n",
       "        [ 0.1258, -0.0569, -0.1249,  0.0737,  0.0786,  0.0398, -0.1434,  0.0842,\n",
       "         -0.0693,  0.0577],\n",
       "        [ 0.1272, -0.0648, -0.1158,  0.0718,  0.0697,  0.0445, -0.1380,  0.0930,\n",
       "         -0.0728,  0.0639],\n",
       "        [ 0.1272, -0.0447, -0.1160,  0.0706,  0.0700,  0.0513, -0.1532,  0.0654,\n",
       "         -0.0783,  0.0685],\n",
       "        [ 0.1209, -0.0476, -0.1141,  0.0742,  0.0707,  0.0431, -0.1458,  0.0929,\n",
       "         -0.0654,  0.0533],\n",
       "        [ 0.1236, -0.0510, -0.1301,  0.0783,  0.0772,  0.0404, -0.1460,  0.0817,\n",
       "         -0.0703,  0.0630],\n",
       "        [ 0.1360, -0.0432, -0.1160,  0.0710,  0.0853,  0.0479, -0.1422,  0.0677,\n",
       "         -0.0774,  0.0634],\n",
       "        [ 0.1245, -0.0392, -0.1104,  0.0764,  0.0752,  0.0471, -0.1465,  0.0838,\n",
       "         -0.0729,  0.0574],\n",
       "        [ 0.1267, -0.0559, -0.1124,  0.0788,  0.0666,  0.0490, -0.1463,  0.0928,\n",
       "         -0.0681,  0.0615]], grad_fn=<AddmmBackward>)"
      ]
     },
     "execution_count": 14,
     "metadata": {},
     "output_type": "execute_result"
    }
   ],
   "source": [
    "logits"
   ]
  },
  {
   "cell_type": "code",
   "execution_count": null,
   "metadata": {},
   "outputs": [],
   "source": []
  }
 ],
 "metadata": {
  "kernelspec": {
   "display_name": "Python 3",
   "language": "python",
   "name": "python3"
  },
  "language_info": {
   "codemirror_mode": {
    "name": "ipython",
    "version": 3
   },
   "file_extension": ".py",
   "mimetype": "text/x-python",
   "name": "python",
   "nbconvert_exporter": "python",
   "pygments_lexer": "ipython3",
   "version": "3.6.9"
  }
 },
 "nbformat": 4,
 "nbformat_minor": 4
}
