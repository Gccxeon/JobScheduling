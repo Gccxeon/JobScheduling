{
 "cells": [
  {
   "cell_type": "code",
   "execution_count": null,
   "metadata": {},
   "outputs": [],
   "source": []
  },
  {
   "cell_type": "code",
   "execution_count": 1,
   "metadata": {},
   "outputs": [
    {
     "name": "stdout",
     "output_type": "stream",
     "text": [
      "The initialization template is either None or invalid, the servers and jobs will be generated randomly\n"
     ]
    }
   ],
   "source": [
    "import test"
   ]
  },
  {
   "cell_type": "code",
   "execution_count": 3,
   "metadata": {},
   "outputs": [
    {
     "data": {
      "text/plain": [
       "tensor([[  1.0000, 981.1381,   5.0802,   2.4662,   3.8704,   1.6983,   4.3681,\n",
       "           6.0216,   2.6500,   3.0919,   1.5462,   1.8960],\n",
       "        [  1.0000, 846.8204,   5.0802,   3.1709,   3.8704,   1.6983,   4.3681,\n",
       "           6.0216,   2.6500,   3.0919,   1.5462,   3.5763],\n",
       "        [ -1.0000, 943.7355,   5.0802,   3.1709,   3.8704,   2.5285,   4.3681,\n",
       "           6.8546,   2.6500,   3.0919,   1.5462,   3.5763],\n",
       "        [ -1.0000, 980.1777,   6.9544,   3.1709,   4.5832,   2.5285,   4.3681,\n",
       "           7.8070,   3.4385,   3.0919,   2.4957,   5.3794],\n",
       "        [  1.0000, 862.2911,   5.0802,   2.4662,   3.8704,   1.6983,   4.3681,\n",
       "           5.1734,   2.6500,   2.2323,   1.5462,   1.8960],\n",
       "        [ -1.0000, 854.2246,   5.0802,   2.4662,   3.8704,   1.6983,   3.5955,\n",
       "           3.7101,   2.6500,   2.2323,   1.5462,   1.8960],\n",
       "        [  1.0000, 944.3878,   6.9544,   3.1709,   4.5832,   2.5285,   4.3681,\n",
       "           7.8070,   3.4385,   4.6947,   2.4957,   5.3794],\n",
       "        [ -1.0000, 800.6589,   6.9544,   3.1709,   4.5832,   2.5285,   4.3681,\n",
       "           7.8070,   4.3171,   4.6947,   2.4957,   5.3794],\n",
       "        [ -1.0000, 983.5035,   5.0802,   3.1709,   4.5832,   2.5285,   4.3681,\n",
       "           7.8070,   3.4385,   3.0919,   2.4957,   5.3794],\n",
       "        [ -1.0000, 939.3049,   6.9544,   3.1709,   4.5832,   2.5285,   4.3681,\n",
       "           9.0497,   4.3171,   4.6947,   2.4957,   5.3794]])"
      ]
     },
     "execution_count": 3,
     "metadata": {},
     "output_type": "execute_result"
    }
   ],
   "source": [
    "test.get_some_tensor_states(10)"
   ]
  },
  {
   "cell_type": "code",
   "execution_count": 9,
   "metadata": {},
   "outputs": [],
   "source": [
    "a = test.replay_memory.sample(2)"
   ]
  },
  {
   "cell_type": "code",
   "execution_count": 29,
   "metadata": {},
   "outputs": [],
   "source": [
    "c = test.Transition(*zip(*a))"
   ]
  },
  {
   "cell_type": "code",
   "execution_count": 31,
   "metadata": {},
   "outputs": [
    {
     "data": {
      "text/plain": [
       "tuple"
      ]
     },
     "execution_count": 31,
     "metadata": {},
     "output_type": "execute_result"
    }
   ],
   "source": [
    "type(c.state)"
   ]
  },
  {
   "cell_type": "code",
   "execution_count": 20,
   "metadata": {},
   "outputs": [
    {
     "ename": "AttributeError",
     "evalue": "'zip' object has no attribute 'state'",
     "output_type": "error",
     "traceback": [
      "\u001b[0;31m---------------------------------------------------------------------------\u001b[0m",
      "\u001b[0;31mAttributeError\u001b[0m                            Traceback (most recent call last)",
      "\u001b[0;32m<ipython-input-20-fc7eb302506c>\u001b[0m in \u001b[0;36m<module>\u001b[0;34m\u001b[0m\n\u001b[0;32m----> 1\u001b[0;31m \u001b[0mc\u001b[0m\u001b[0;34m.\u001b[0m\u001b[0mstate\u001b[0m\u001b[0;34m\u001b[0m\u001b[0;34m\u001b[0m\u001b[0m\n\u001b[0m",
      "\u001b[0;31mAttributeError\u001b[0m: 'zip' object has no attribute 'state'"
     ]
    }
   ],
   "source": []
  },
  {
   "cell_type": "code",
   "execution_count": null,
   "metadata": {},
   "outputs": [],
   "source": []
  }
 ],
 "metadata": {
  "kernelspec": {
   "display_name": "Python 3",
   "language": "python",
   "name": "python3"
  },
  "language_info": {
   "codemirror_mode": {
    "name": "ipython",
    "version": 3
   },
   "file_extension": ".py",
   "mimetype": "text/x-python",
   "name": "python",
   "nbconvert_exporter": "python",
   "pygments_lexer": "ipython3",
   "version": "3.8.1"
  }
 },
 "nbformat": 4,
 "nbformat_minor": 4
}
